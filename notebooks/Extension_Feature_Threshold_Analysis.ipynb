{
 "cells": [
  {
   "cell_type": "markdown",
   "id": "cfe51824",
   "metadata": {},
   "source": [
    "# Feature Threshold Analysis\n",
    "In this section, we will design a functional extension to LIME/SHAP which will tell the limit/boundary values of a chosen feature (set of features) which can change the outcome to opposite class (one of chosen) class"
   ]
  },
  {
   "cell_type": "markdown",
   "id": "c84970e9",
   "metadata": {},
   "source": [
    "## Developed with miniconda Python 3.9.12"
   ]
  },
  {
   "cell_type": "markdown",
   "id": "8cd2cdf8",
   "metadata": {},
   "source": [
    "## Import Libraries"
   ]
  },
  {
   "cell_type": "code",
   "execution_count": 1,
   "id": "a34603f4",
   "metadata": {},
   "outputs": [],
   "source": [
    "from sklearn.ensemble import RandomForestClassifier\n",
    "from sklearn.model_selection import train_test_split\n",
    "import pandas as pd\n",
    "import numpy as np"
   ]
  },
  {
   "cell_type": "markdown",
   "id": "a8a799cc",
   "metadata": {},
   "source": [
    "## Download and prepare data\n",
    "url: https://archive.ics.uci.edu/ml/datasets/banknote+authentication"
   ]
  },
  {
   "cell_type": "code",
   "execution_count": 2,
   "id": "bba30c7d",
   "metadata": {},
   "outputs": [],
   "source": [
    "notes = pd.read_csv(\"/Users/binayak/Projects/BITS_MTech_Dissertation/data/data_banknote_authentication.txt\", \n",
    "                    header=None, names=['variance','skewness','kurtosis','entropy','class'])\n",
    "X_train, X_test, y_train, y_test = train_test_split(notes.iloc[:,0:4], notes.iloc[:,4], test_size = 0.3, \n",
    "                                                    random_state=0)"
   ]
  },
  {
   "cell_type": "code",
   "execution_count": 3,
   "id": "794eb8fe",
   "metadata": {},
   "outputs": [],
   "source": [
    "# Reset indexes for handling by index keys\n",
    "X_train.reset_index(inplace=True, drop = True)\n",
    "y_train.reset_index(inplace=True, drop=True)\n",
    "X_test.reset_index(inplace=True, drop = True)\n",
    "y_test.reset_index(inplace=True, drop=True)"
   ]
  },
  {
   "cell_type": "code",
   "execution_count": 4,
   "id": "2f5c60f6",
   "metadata": {},
   "outputs": [
    {
     "data": {
      "text/html": [
       "<style>#sk-container-id-1 {color: black;background-color: white;}#sk-container-id-1 pre{padding: 0;}#sk-container-id-1 div.sk-toggleable {background-color: white;}#sk-container-id-1 label.sk-toggleable__label {cursor: pointer;display: block;width: 100%;margin-bottom: 0;padding: 0.3em;box-sizing: border-box;text-align: center;}#sk-container-id-1 label.sk-toggleable__label-arrow:before {content: \"▸\";float: left;margin-right: 0.25em;color: #696969;}#sk-container-id-1 label.sk-toggleable__label-arrow:hover:before {color: black;}#sk-container-id-1 div.sk-estimator:hover label.sk-toggleable__label-arrow:before {color: black;}#sk-container-id-1 div.sk-toggleable__content {max-height: 0;max-width: 0;overflow: hidden;text-align: left;background-color: #f0f8ff;}#sk-container-id-1 div.sk-toggleable__content pre {margin: 0.2em;color: black;border-radius: 0.25em;background-color: #f0f8ff;}#sk-container-id-1 input.sk-toggleable__control:checked~div.sk-toggleable__content {max-height: 200px;max-width: 100%;overflow: auto;}#sk-container-id-1 input.sk-toggleable__control:checked~label.sk-toggleable__label-arrow:before {content: \"▾\";}#sk-container-id-1 div.sk-estimator input.sk-toggleable__control:checked~label.sk-toggleable__label {background-color: #d4ebff;}#sk-container-id-1 div.sk-label input.sk-toggleable__control:checked~label.sk-toggleable__label {background-color: #d4ebff;}#sk-container-id-1 input.sk-hidden--visually {border: 0;clip: rect(1px 1px 1px 1px);clip: rect(1px, 1px, 1px, 1px);height: 1px;margin: -1px;overflow: hidden;padding: 0;position: absolute;width: 1px;}#sk-container-id-1 div.sk-estimator {font-family: monospace;background-color: #f0f8ff;border: 1px dotted black;border-radius: 0.25em;box-sizing: border-box;margin-bottom: 0.5em;}#sk-container-id-1 div.sk-estimator:hover {background-color: #d4ebff;}#sk-container-id-1 div.sk-parallel-item::after {content: \"\";width: 100%;border-bottom: 1px solid gray;flex-grow: 1;}#sk-container-id-1 div.sk-label:hover label.sk-toggleable__label {background-color: #d4ebff;}#sk-container-id-1 div.sk-serial::before {content: \"\";position: absolute;border-left: 1px solid gray;box-sizing: border-box;top: 0;bottom: 0;left: 50%;z-index: 0;}#sk-container-id-1 div.sk-serial {display: flex;flex-direction: column;align-items: center;background-color: white;padding-right: 0.2em;padding-left: 0.2em;position: relative;}#sk-container-id-1 div.sk-item {position: relative;z-index: 1;}#sk-container-id-1 div.sk-parallel {display: flex;align-items: stretch;justify-content: center;background-color: white;position: relative;}#sk-container-id-1 div.sk-item::before, #sk-container-id-1 div.sk-parallel-item::before {content: \"\";position: absolute;border-left: 1px solid gray;box-sizing: border-box;top: 0;bottom: 0;left: 50%;z-index: -1;}#sk-container-id-1 div.sk-parallel-item {display: flex;flex-direction: column;z-index: 1;position: relative;background-color: white;}#sk-container-id-1 div.sk-parallel-item:first-child::after {align-self: flex-end;width: 50%;}#sk-container-id-1 div.sk-parallel-item:last-child::after {align-self: flex-start;width: 50%;}#sk-container-id-1 div.sk-parallel-item:only-child::after {width: 0;}#sk-container-id-1 div.sk-dashed-wrapped {border: 1px dashed gray;margin: 0 0.4em 0.5em 0.4em;box-sizing: border-box;padding-bottom: 0.4em;background-color: white;}#sk-container-id-1 div.sk-label label {font-family: monospace;font-weight: bold;display: inline-block;line-height: 1.2em;}#sk-container-id-1 div.sk-label-container {text-align: center;}#sk-container-id-1 div.sk-container {/* jupyter's `normalize.less` sets `[hidden] { display: none; }` but bootstrap.min.css set `[hidden] { display: none !important; }` so we also need the `!important` here to be able to override the default hidden behavior on the sphinx rendered scikit-learn.org. See: https://github.com/scikit-learn/scikit-learn/issues/21755 */display: inline-block !important;position: relative;}#sk-container-id-1 div.sk-text-repr-fallback {display: none;}</style><div id=\"sk-container-id-1\" class=\"sk-top-container\"><div class=\"sk-text-repr-fallback\"><pre>RandomForestClassifier()</pre><b>In a Jupyter environment, please rerun this cell to show the HTML representation or trust the notebook. <br />On GitHub, the HTML representation is unable to render, please try loading this page with nbviewer.org.</b></div><div class=\"sk-container\" hidden><div class=\"sk-item\"><div class=\"sk-estimator sk-toggleable\"><input class=\"sk-toggleable__control sk-hidden--visually\" id=\"sk-estimator-id-1\" type=\"checkbox\" checked><label for=\"sk-estimator-id-1\" class=\"sk-toggleable__label sk-toggleable__label-arrow\">RandomForestClassifier</label><div class=\"sk-toggleable__content\"><pre>RandomForestClassifier()</pre></div></div></div></div></div>"
      ],
      "text/plain": [
       "RandomForestClassifier()"
      ]
     },
     "execution_count": 4,
     "metadata": {},
     "output_type": "execute_result"
    }
   ],
   "source": [
    "# Initialize and train model\n",
    "model = RandomForestClassifier()\n",
    "model.fit(X_train,y_train)"
   ]
  },
  {
   "cell_type": "markdown",
   "id": "68a44a67",
   "metadata": {},
   "source": [
    "## Implement the Explainer"
   ]
  },
  {
   "cell_type": "code",
   "execution_count": 5,
   "id": "8d73695e",
   "metadata": {},
   "outputs": [],
   "source": [
    "class ModelExplainer:\n",
    "    '''\n",
    "    This class implements feature threshold analysis which is limited to binary classification based on \n",
    "    numeric features\n",
    "    '''\n",
    "    def __init__(self, model, training_features):\n",
    "        '''\n",
    "        Method inilializes the explainer with the model and the training feature set. Calculate and store \n",
    "        the mean and standard deviation of the numeric features \n",
    "        '''\n",
    "        self.model = model\n",
    "        self.training_features = training_features\n",
    "        self.feature_details = dict()\n",
    "        for feature in self.training_features.columns:\n",
    "            self.feature_details[feature] = dict()\n",
    "            self.feature_details[feature]['mean'] = training_features.loc[:,feature].mean()\n",
    "            self.feature_details[feature]['std'] = training_features.loc[:,feature].std()\n",
    "        print(\"Explainer initialized\")\n",
    "    \n",
    "    def describe(self):\n",
    "        '''\n",
    "        Describes the model and the feature set\n",
    "        '''\n",
    "        print(\"Description:\")\n",
    "        print(\"Explainer for Model {}\".format(model))\n",
    "        print(\"Feature set is [{}]\".format(self.training_features.columns))\n",
    "        \n",
    "    def analyze_one_feature_change(self,feature_data, var_feature_name, outcome, step_size=0, limit=(0,0)):\n",
    "        '''\n",
    "        Input:\n",
    "            feature_data: data representing an instance of data set of feature vector\n",
    "            var_feature_name: name of the feature which is chosen for threshold analysis\n",
    "            outcome: desired outcome for which threshold analysis should be performed\n",
    "            step_size: iteration step which when defaulted, is derived in the method\n",
    "            limit: tuple storing the upper and lower limit of iteration. Derived when defaulted\n",
    "        Output:\n",
    "            upper_boundary_flag: Boolean flag indicating if upper boundary is found\n",
    "            upper_boundary_value: Closest upper value for outcome. Valid only when upper_boundary_flag is set\n",
    "            lower_boundary_flag: Boolean flag indicating if lower boundary is found\n",
    "            lower_boundary_value: Closest lower value for outcome. Valid only when lower_boundary_flag is set\n",
    "            description: descriptive text of explainer output\n",
    "        '''\n",
    "        \n",
    "        # Initialize response variables\n",
    "        resp = dict()   \n",
    "        upper_boundary_flag, lower_boundary_flag = False, False\n",
    "        upper_boundary_value, lower_boundary_value = np.inf, -np.inf\n",
    "        \n",
    "        var = var_feature_name\n",
    "        if (step_size == 0):  # step_size not supplied\n",
    "            step_size = self.feature_details[var]['std']/10   # Here N=10 and can be made configurable\n",
    "\n",
    "        if limit[0] == limit[1]:   #limits not supplied\n",
    "            lower_limit = self.feature_details[var]['mean'] - 3 * self.feature_details[var]['std']\n",
    "            upper_limit = self.feature_details[var]['mean'] + 3 * self.feature_details[var]['std']\n",
    "        else:\n",
    "            lower_limit = limit[0]\n",
    "            upper_limit = limit[1]\n",
    "        \n",
    "        # Implement iterative increments to find upper value\n",
    "        Z = feature_data.copy()\n",
    "        Z.reset_index(inplace=True, drop=True)\n",
    "        while Z.loc[0, var] < upper_limit :\n",
    "            Z.loc[0, var] += step_size\n",
    "            if self.model.predict(Z)[0] == outcome:\n",
    "                upper_boundary_flag = True\n",
    "                upper_boundary_value = Z.loc[0, var]\n",
    "                break\n",
    "\n",
    "        # Implement iterative decrements to find lower value\n",
    "        Z = feature_data.copy()\n",
    "        Z.reset_index(inplace=True, drop=True)\n",
    "        while Z.loc[0, var] > lower_limit :\n",
    "            Z.loc[0, var] -= step_size\n",
    "            if self.model.predict(Z)[0] == outcome:\n",
    "                lower_boundary_flag = True\n",
    "                lower_boundary_value = Z.loc[0,var]\n",
    "                break\n",
    "                \n",
    "        # Prepare response\n",
    "        resp_str = \"With other feature values held constant,\"\n",
    "        if upper_boundary_flag:\n",
    "            resp_str += \"Outcome can be changed to [{}] for value of [{}] set to [{}],\".format(\n",
    "            outcome, var, upper_boundary_value)\n",
    "        else:\n",
    "            resp_str += \"there are no higher values of [{}] to change outcome to [{}],\".format(\n",
    "            var,outcome)\n",
    "        if lower_boundary_flag:\n",
    "            resp_str += \"Outcome can be changed to [{}] for value of [{}] set to [{}]\".format(\n",
    "            outcome, var, lower_boundary_value)\n",
    "        else:\n",
    "            resp_str += \"there are no lower values of [{}] to change outcome to [{}]\".format(\n",
    "            var,outcome)\n",
    "\n",
    "        resp['upper_boundary_flag'] = upper_boundary_flag\n",
    "        resp['upper_boundary_value'] = upper_boundary_value\n",
    "        resp['lower_boundary_flag'] = lower_boundary_flag\n",
    "        resp['lower_boundary_value'] = lower_boundary_value\n",
    "        resp['description'] = resp_str\n",
    "        return(resp)"
   ]
  },
  {
   "cell_type": "markdown",
   "id": "206b356f",
   "metadata": {},
   "source": [
    "## Test output"
   ]
  },
  {
   "cell_type": "code",
   "execution_count": 6,
   "id": "486c390d",
   "metadata": {},
   "outputs": [
    {
     "name": "stdout",
     "output_type": "stream",
     "text": [
      "Predicted output for feature \n",
      "   variance  skewness  kurtosis  entropy\n",
      "1    5.1321 -0.031048   0.32616   1.1151 \n",
      "is \n",
      "[[0]]\n"
     ]
    }
   ],
   "source": [
    "# Let us take a feature instance from test/validation test and execute model prediction\n",
    "print(\"Predicted output for feature \\n{} \\nis \\n[{}]\".format(X_test.loc[1:1], \n",
    "                                                             model.predict(X_test.loc[1:1])))"
   ]
  },
  {
   "cell_type": "code",
   "execution_count": 7,
   "id": "81762bbd",
   "metadata": {},
   "outputs": [],
   "source": [
    "# As a usecase, we will now use the model_explainer to check (if any) and find nearest values of \"kurtosis\" \n",
    "# feature for which the model prediction changes to [1]"
   ]
  },
  {
   "cell_type": "code",
   "execution_count": 8,
   "id": "13d349ad",
   "metadata": {},
   "outputs": [
    {
     "name": "stdout",
     "output_type": "stream",
     "text": [
      "Explainer initialized\n"
     ]
    }
   ],
   "source": [
    "# Initialize ModelExplainer class\n",
    "E = ModelExplainer(model, X_train)"
   ]
  },
  {
   "cell_type": "code",
   "execution_count": 9,
   "id": "94117280",
   "metadata": {},
   "outputs": [
    {
     "name": "stdout",
     "output_type": "stream",
     "text": [
      "Description:\n",
      "Explainer for Model RandomForestClassifier()\n",
      "Feature set is [Index(['variance', 'skewness', 'kurtosis', 'entropy'], dtype='object')]\n"
     ]
    }
   ],
   "source": [
    "# Describe the explainer\n",
    "E.describe()"
   ]
  },
  {
   "cell_type": "code",
   "execution_count": 10,
   "id": "2175ad70",
   "metadata": {},
   "outputs": [
    {
     "data": {
      "text/plain": [
       "{'upper_boundary_flag': False,\n",
       " 'upper_boundary_value': inf,\n",
       " 'lower_boundary_flag': False,\n",
       " 'lower_boundary_value': -inf,\n",
       " 'description': 'With other feature values held constant,there are no higher values of [kurtosis] to change outcome to [1],there are no lower values of [kurtosis] to change outcome to [1]'}"
      ]
     },
     "execution_count": 10,
     "metadata": {},
     "output_type": "execute_result"
    }
   ],
   "source": [
    "# Analyze threshold for kurtosis for desired outcome [1]\n",
    "E.analyze_one_feature_change(X_test.loc[1:1].copy(),'kurtosis',1, step_size = 0, limit = (0,0))"
   ]
  },
  {
   "cell_type": "markdown",
   "id": "b9f13f42",
   "metadata": {},
   "source": [
    "## Intepretation\n",
    "As evident, for given feature data set, kurtosis is 0.32616 and there are no higher values (other features constant) which can change prediction output to 1. However if on the lower side, if kurtosis value is reduced to -4.77 approx. the prediction output could be reversed from 0 to 1  "
   ]
  },
  {
   "cell_type": "markdown",
   "id": "b5fb51b2",
   "metadata": {},
   "source": [
    "## Testing the results"
   ]
  },
  {
   "cell_type": "code",
   "execution_count": 11,
   "id": "7d10beac",
   "metadata": {},
   "outputs": [
    {
     "name": "stdout",
     "output_type": "stream",
     "text": [
      "   variance  skewness  kurtosis  entropy\n",
      "1    5.1321 -0.031048     -4.77   1.1151\n"
     ]
    },
    {
     "data": {
      "text/plain": [
       "array([0])"
      ]
     },
     "execution_count": 11,
     "metadata": {},
     "output_type": "execute_result"
    }
   ],
   "source": [
    "temp = X_test.loc[1:1].copy()\n",
    "temp['kurtosis'] = -4.77\n",
    "print(temp)\n",
    "model.predict(temp)"
   ]
  },
  {
   "cell_type": "markdown",
   "id": "a2a06f9f",
   "metadata": {},
   "source": [
    "## Current limitations and Next steps\n",
    "As detailed in the dissertation research paper, the present implementation is limited to single feature out of a set of all numeric features and a model which outputs a binary classification.\n",
    "However the intuition and design could easily be extend to combination of features, discrete features or multi-class classification"
   ]
  },
  {
   "cell_type": "code",
   "execution_count": null,
   "id": "271c9024",
   "metadata": {},
   "outputs": [],
   "source": []
  }
 ],
 "metadata": {
  "kernelspec": {
   "display_name": "Python 3 (ipykernel)",
   "language": "python",
   "name": "python3"
  },
  "language_info": {
   "codemirror_mode": {
    "name": "ipython",
    "version": 3
   },
   "file_extension": ".py",
   "mimetype": "text/x-python",
   "name": "python",
   "nbconvert_exporter": "python",
   "pygments_lexer": "ipython3",
   "version": "3.9.12"
  },
  "toc": {
   "base_numbering": 1,
   "nav_menu": {},
   "number_sections": true,
   "sideBar": true,
   "skip_h1_title": false,
   "title_cell": "Table of Contents",
   "title_sidebar": "Contents",
   "toc_cell": false,
   "toc_position": {},
   "toc_section_display": true,
   "toc_window_display": false
  }
 },
 "nbformat": 4,
 "nbformat_minor": 5
}
